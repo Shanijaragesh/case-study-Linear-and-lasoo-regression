{
 "cells": [
  {
   "cell_type": "code",
   "execution_count": 1,
   "id": "9ef79bc1",
   "metadata": {},
   "outputs": [],
   "source": [
    "import pandas as pd\n",
    "import seaborn as sns\n",
    "import math\n",
    "import matplotlib.pyplot as plt\n",
    "import numpy as np\n",
    "%matplotlib inline\n",
    "from sklearn.linear_model import LinearRegression\n",
    "from sklearn import linear_model"
   ]
  },
  {
   "cell_type": "code",
   "execution_count": 2,
   "id": "f0f648fa",
   "metadata": {},
   "outputs": [],
   "source": [
    "df = pd.read_csv('car_age_price.csv')"
   ]
  },
  {
   "cell_type": "code",
   "execution_count": 3,
   "id": "be91f0ce",
   "metadata": {},
   "outputs": [
    {
     "data": {
      "text/html": [
       "<div>\n",
       "<style scoped>\n",
       "    .dataframe tbody tr th:only-of-type {\n",
       "        vertical-align: middle;\n",
       "    }\n",
       "\n",
       "    .dataframe tbody tr th {\n",
       "        vertical-align: top;\n",
       "    }\n",
       "\n",
       "    .dataframe thead th {\n",
       "        text-align: right;\n",
       "    }\n",
       "</style>\n",
       "<table border=\"1\" class=\"dataframe\">\n",
       "  <thead>\n",
       "    <tr style=\"text-align: right;\">\n",
       "      <th></th>\n",
       "      <th>Year</th>\n",
       "      <th>Price</th>\n",
       "    </tr>\n",
       "  </thead>\n",
       "  <tbody>\n",
       "    <tr>\n",
       "      <th>0</th>\n",
       "      <td>2018</td>\n",
       "      <td>465000</td>\n",
       "    </tr>\n",
       "    <tr>\n",
       "      <th>1</th>\n",
       "      <td>2019</td>\n",
       "      <td>755000</td>\n",
       "    </tr>\n",
       "    <tr>\n",
       "      <th>2</th>\n",
       "      <td>2019</td>\n",
       "      <td>700000</td>\n",
       "    </tr>\n",
       "    <tr>\n",
       "      <th>3</th>\n",
       "      <td>2018</td>\n",
       "      <td>465000</td>\n",
       "    </tr>\n",
       "    <tr>\n",
       "      <th>4</th>\n",
       "      <td>2018</td>\n",
       "      <td>465000</td>\n",
       "    </tr>\n",
       "  </tbody>\n",
       "</table>\n",
       "</div>"
      ],
      "text/plain": [
       "   Year   Price\n",
       "0  2018  465000\n",
       "1  2019  755000\n",
       "2  2019  700000\n",
       "3  2018  465000\n",
       "4  2018  465000"
      ]
     },
     "execution_count": 3,
     "metadata": {},
     "output_type": "execute_result"
    }
   ],
   "source": [
    "df.head()"
   ]
  },
  {
   "cell_type": "code",
   "execution_count": 4,
   "id": "dcb928f0",
   "metadata": {},
   "outputs": [
    {
     "data": {
      "text/html": [
       "<div>\n",
       "<style scoped>\n",
       "    .dataframe tbody tr th:only-of-type {\n",
       "        vertical-align: middle;\n",
       "    }\n",
       "\n",
       "    .dataframe tbody tr th {\n",
       "        vertical-align: top;\n",
       "    }\n",
       "\n",
       "    .dataframe thead th {\n",
       "        text-align: right;\n",
       "    }\n",
       "</style>\n",
       "<table border=\"1\" class=\"dataframe\">\n",
       "  <thead>\n",
       "    <tr style=\"text-align: right;\">\n",
       "      <th></th>\n",
       "      <th>Year</th>\n",
       "      <th>Price</th>\n",
       "    </tr>\n",
       "  </thead>\n",
       "  <tbody>\n",
       "    <tr>\n",
       "      <th>107</th>\n",
       "      <td>2016</td>\n",
       "      <td>375000</td>\n",
       "    </tr>\n",
       "    <tr>\n",
       "      <th>108</th>\n",
       "      <td>2014</td>\n",
       "      <td>300000</td>\n",
       "    </tr>\n",
       "    <tr>\n",
       "      <th>109</th>\n",
       "      <td>2015</td>\n",
       "      <td>425000</td>\n",
       "    </tr>\n",
       "    <tr>\n",
       "      <th>110</th>\n",
       "      <td>2016</td>\n",
       "      <td>420000</td>\n",
       "    </tr>\n",
       "    <tr>\n",
       "      <th>111</th>\n",
       "      <td>2015</td>\n",
       "      <td>425000</td>\n",
       "    </tr>\n",
       "  </tbody>\n",
       "</table>\n",
       "</div>"
      ],
      "text/plain": [
       "     Year   Price\n",
       "107  2016  375000\n",
       "108  2014  300000\n",
       "109  2015  425000\n",
       "110  2016  420000\n",
       "111  2015  425000"
      ]
     },
     "execution_count": 4,
     "metadata": {},
     "output_type": "execute_result"
    }
   ],
   "source": [
    "df.tail()"
   ]
  },
  {
   "cell_type": "code",
   "execution_count": 5,
   "id": "dc0d990e",
   "metadata": {},
   "outputs": [],
   "source": [
    "#checking for Null values"
   ]
  },
  {
   "cell_type": "code",
   "execution_count": 6,
   "id": "fe616476",
   "metadata": {},
   "outputs": [
    {
     "data": {
      "text/plain": [
       "Year     0\n",
       "Price    0\n",
       "dtype: int64"
      ]
     },
     "execution_count": 6,
     "metadata": {},
     "output_type": "execute_result"
    }
   ],
   "source": [
    "df.isna().sum()"
   ]
  },
  {
   "cell_type": "code",
   "execution_count": 7,
   "id": "1ef02a14",
   "metadata": {},
   "outputs": [],
   "source": [
    "# There are no null values in both Price and Year"
   ]
  },
  {
   "cell_type": "code",
   "execution_count": 8,
   "id": "b4405c34",
   "metadata": {},
   "outputs": [
    {
     "data": {
      "text/html": [
       "<div>\n",
       "<style scoped>\n",
       "    .dataframe tbody tr th:only-of-type {\n",
       "        vertical-align: middle;\n",
       "    }\n",
       "\n",
       "    .dataframe tbody tr th {\n",
       "        vertical-align: top;\n",
       "    }\n",
       "\n",
       "    .dataframe thead th {\n",
       "        text-align: right;\n",
       "    }\n",
       "</style>\n",
       "<table border=\"1\" class=\"dataframe\">\n",
       "  <thead>\n",
       "    <tr style=\"text-align: right;\">\n",
       "      <th></th>\n",
       "      <th>Year</th>\n",
       "      <th>Price</th>\n",
       "    </tr>\n",
       "  </thead>\n",
       "  <tbody>\n",
       "    <tr>\n",
       "      <th>count</th>\n",
       "      <td>112.000000</td>\n",
       "      <td>112.000000</td>\n",
       "    </tr>\n",
       "    <tr>\n",
       "      <th>mean</th>\n",
       "      <td>2016.669643</td>\n",
       "      <td>483866.044643</td>\n",
       "    </tr>\n",
       "    <tr>\n",
       "      <th>std</th>\n",
       "      <td>1.629616</td>\n",
       "      <td>91217.450533</td>\n",
       "    </tr>\n",
       "    <tr>\n",
       "      <th>min</th>\n",
       "      <td>2013.000000</td>\n",
       "      <td>300000.000000</td>\n",
       "    </tr>\n",
       "    <tr>\n",
       "      <th>25%</th>\n",
       "      <td>2015.000000</td>\n",
       "      <td>423750.000000</td>\n",
       "    </tr>\n",
       "    <tr>\n",
       "      <th>50%</th>\n",
       "      <td>2017.000000</td>\n",
       "      <td>500000.000000</td>\n",
       "    </tr>\n",
       "    <tr>\n",
       "      <th>75%</th>\n",
       "      <td>2017.000000</td>\n",
       "      <td>550000.000000</td>\n",
       "    </tr>\n",
       "    <tr>\n",
       "      <th>max</th>\n",
       "      <td>2020.000000</td>\n",
       "      <td>755000.000000</td>\n",
       "    </tr>\n",
       "  </tbody>\n",
       "</table>\n",
       "</div>"
      ],
      "text/plain": [
       "              Year          Price\n",
       "count   112.000000     112.000000\n",
       "mean   2016.669643  483866.044643\n",
       "std       1.629616   91217.450533\n",
       "min    2013.000000  300000.000000\n",
       "25%    2015.000000  423750.000000\n",
       "50%    2017.000000  500000.000000\n",
       "75%    2017.000000  550000.000000\n",
       "max    2020.000000  755000.000000"
      ]
     },
     "execution_count": 8,
     "metadata": {},
     "output_type": "execute_result"
    }
   ],
   "source": [
    "df.describe()  #description of data"
   ]
  },
  {
   "cell_type": "code",
   "execution_count": 60,
   "id": "c39d3b08",
   "metadata": {},
   "outputs": [],
   "source": [
    "#finding the correlation matrix and drawing heat map"
   ]
  },
  {
   "cell_type": "code",
   "execution_count": 9,
   "id": "2f220673",
   "metadata": {},
   "outputs": [
    {
     "data": {
      "text/plain": [
       "<AxesSubplot:>"
      ]
     },
     "execution_count": 9,
     "metadata": {},
     "output_type": "execute_result"
    },
    {
     "data": {
      "image/png": "[encoded data removed]",
      "text/plain": [
       "<Figure size 720x288 with 2 Axes>"
      ]
     },
     "metadata": {
      "needs_background": "light"
     },
     "output_type": "display_data"
    }
   ],
   "source": [
    "corrmatrix = df.corr()\n",
    "plt.subplots(figsize=(10,4))\n",
    "sns.heatmap(corrmatrix, vmin=0.2 ,vmax=0.9, annot=True,cmap='YlGnBu')"
   ]
  },
  {
   "cell_type": "code",
   "execution_count": 61,
   "id": "b87e953e",
   "metadata": {},
   "outputs": [
    {
     "data": {
      "text/plain": [
       "Index(['Year', 'Price'], dtype='object')"
      ]
     },
     "execution_count": 61,
     "metadata": {},
     "output_type": "execute_result"
    }
   ],
   "source": [
    "df.columns # listing the column names"
   ]
  },
  {
   "cell_type": "code",
   "execution_count": 11,
   "id": "cf95058a",
   "metadata": {},
   "outputs": [],
   "source": [
    "#x=df['Year'].array           finding the Year value as array\n",
    "#x"
   ]
  },
  {
   "cell_type": "code",
   "execution_count": 12,
   "id": "928ce649",
   "metadata": {},
   "outputs": [],
   "source": [
    "#y=df['Price'].array       finding the price value as array\n",
    "#y"
   ]
  },
  {
   "cell_type": "code",
   "execution_count": 13,
   "id": "8a0b0a9b",
   "metadata": {},
   "outputs": [],
   "source": [
    "# to Draw a best fit line using the given data method 1"
   ]
  },
  {
   "cell_type": "code",
   "execution_count": 14,
   "id": "ea37306e",
   "metadata": {
    "scrolled": true
   },
   "outputs": [
    {
     "data": {
      "text/plain": [
       "[<matplotlib.lines.Line2D at 0x23a29d471c0>]"
      ]
     },
     "execution_count": 14,
     "metadata": {},
     "output_type": "execute_result"
    },
    {
     "data": {
      "image/png": "[encoded data removed]",
      "text/plain": [
       "<Figure size 432x288 with 1 Axes>"
      ]
     },
     "metadata": {
      "needs_background": "light"
     },
     "output_type": "display_data"
    }
   ],
   "source": [
    "x = df['Year'].array\n",
    "y = df['Price' ].array\n",
    "plt. plot(x, y, 'o') #create scatter plot.\n",
    "m, c = np. polyfit(x, y, 1) #m = slope, b=intercept.\n",
    "plt. plot(x, m*x + c) #add line of best fit."
   ]
  },
  {
   "cell_type": "code",
   "execution_count": 15,
   "id": "2a9420e4",
   "metadata": {},
   "outputs": [],
   "source": [
    "#method 2 of plotting linear regression best fit line"
   ]
  },
  {
   "cell_type": "code",
   "execution_count": 16,
   "id": "52a9ab2a",
   "metadata": {},
   "outputs": [
    {
     "data": {
      "image/png": "[encoded data removed]",
      "text/plain": [
       "<Figure size 432x288 with 1 Axes>"
      ]
     },
     "metadata": {},
     "output_type": "display_data"
    }
   ],
   "source": [
    "import seaborn as sns; sns.set_theme(color_codes=True)\n",
    "ax = sns.regplot(x=\"Year\", y=\"Price\", data=df)"
   ]
  },
  {
   "cell_type": "code",
   "execution_count": 17,
   "id": "5fc87332",
   "metadata": {},
   "outputs": [
    {
     "data": {
      "text/plain": [
       "LinearRegression()"
      ]
     },
     "execution_count": 17,
     "metadata": {},
     "output_type": "execute_result"
    }
   ],
   "source": [
    "reg = linear_model.LinearRegression()\n",
    "reg.fit(df[['Year']],df.Price)"
   ]
  },
  {
   "cell_type": "code",
   "execution_count": 18,
   "id": "a4604921",
   "metadata": {},
   "outputs": [
    {
     "name": "stderr",
     "output_type": "stream",
     "text": [
      "C:\\ProgramData\\Anaconda3\\lib\\site-packages\\sklearn\\base.py:450: UserWarning: X does not have valid feature names, but LinearRegression was fitted with feature names\n",
      "  warnings.warn(\n"
     ]
    },
    {
     "data": {
      "text/plain": [
       "array([715488.07850976])"
      ]
     },
     "execution_count": 18,
     "metadata": {},
     "output_type": "execute_result"
    }
   ],
   "source": [
    "reg.predict([[2022]])"
   ]
  },
  {
   "cell_type": "markdown",
   "id": "d41f9ed4",
   "metadata": {},
   "source": [
    "Splitting target(Price) and features(Year)"
   ]
  },
  {
   "cell_type": "code",
   "execution_count": 19,
   "id": "39f44b14",
   "metadata": {},
   "outputs": [],
   "source": [
    "X=df.drop(['Price'],axis=1) # Price is the target(depenedent variable)\n",
    "y=df['Price']"
   ]
  },
  {
   "cell_type": "code",
   "execution_count": 20,
   "id": "eabe7314",
   "metadata": {},
   "outputs": [],
   "source": [
    "from sklearn.model_selection import train_test_split"
   ]
  },
  {
   "cell_type": "markdown",
   "id": "464338ba",
   "metadata": {},
   "source": [
    "Splitting Training and Test data"
   ]
  },
  {
   "cell_type": "code",
   "execution_count": 21,
   "id": "0cdc187d",
   "metadata": {},
   "outputs": [],
   "source": [
    "X_train, X_test, y_train, y_test = train_test_split(X,y,test_size=0.2,random_state=42)"
   ]
  },
  {
   "cell_type": "markdown",
   "id": "6cf12abf",
   "metadata": {},
   "source": [
    "Model Training"
   ]
  },
  {
   "cell_type": "markdown",
   "id": "4a020f46",
   "metadata": {},
   "source": [
    "Linear Regression model"
   ]
  },
  {
   "cell_type": "code",
   "execution_count": 22,
   "id": "1ad45c8e",
   "metadata": {},
   "outputs": [],
   "source": [
    "lr = linear_model.LinearRegression()\n",
    "model = lr.fit(X_train,y_train)#train our linear regression model\n",
    "predictions = model.predict(X_test)\n"
   ]
  },
  {
   "cell_type": "markdown",
   "id": "920ca6f2",
   "metadata": {},
   "source": [
    "#model evaluation"
   ]
  },
  {
   "cell_type": "code",
   "execution_count": 23,
   "id": "fbecf726",
   "metadata": {},
   "outputs": [],
   "source": [
    "#prediction on the training data\n",
    "training_data_prediction = lr.predict(X_train)"
   ]
  },
  {
   "cell_type": "code",
   "execution_count": 24,
   "id": "08317a2c",
   "metadata": {},
   "outputs": [
    {
     "data": {
      "text/plain": [
       "array([505558.77690466, 505558.77690466, 505558.77690466, 410341.6412885 ,\n",
       "       410341.6412885 , 362733.07348043, 410341.6412885 , 505558.77690466,\n",
       "       600775.91252081, 553167.34471273, 505558.77690466, 505558.77690466,\n",
       "       362733.07348043, 410341.6412885 , 505558.77690466, 410341.6412885 ,\n",
       "       410341.6412885 , 457950.20909658, 410341.6412885 , 648384.48032889,\n",
       "       505558.77690466, 505558.77690466, 362733.07348043, 505558.77690466,\n",
       "       457950.20909658, 505558.77690466, 600775.91252081, 410341.6412885 ,\n",
       "       648384.48032889, 505558.77690466, 505558.77690466, 505558.77690466,\n",
       "       505558.77690466, 505558.77690466, 505558.77690466, 505558.77690466,\n",
       "       553167.34471273, 600775.91252081, 410341.6412885 , 505558.77690466,\n",
       "       553167.34471273, 505558.77690466, 553167.34471273, 410341.6412885 ,\n",
       "       457950.20909658, 410341.6412885 , 505558.77690466, 505558.77690466,\n",
       "       505558.77690466, 315124.50567235, 410341.6412885 , 600775.91252081,\n",
       "       410341.6412885 , 505558.77690466, 362733.07348043, 410341.6412885 ,\n",
       "       600775.91252081, 362733.07348043, 457950.20909658, 505558.77690466,\n",
       "       505558.77690466, 505558.77690466, 505558.77690466, 362733.07348043,\n",
       "       457950.20909658, 505558.77690466, 505558.77690466, 505558.77690466,\n",
       "       505558.77690466, 648384.48032889, 600775.91252081, 315124.50567235,\n",
       "       600775.91252081, 600775.91252081, 505558.77690466, 505558.77690466,\n",
       "       457950.20909658, 505558.77690466, 505558.77690466, 410341.6412885 ,\n",
       "       410341.6412885 , 553167.34471273, 410341.6412885 , 505558.77690466,\n",
       "       410341.6412885 , 505558.77690466, 505558.77690466, 553167.34471273,\n",
       "       410341.6412885 ])"
      ]
     },
     "execution_count": 24,
     "metadata": {},
     "output_type": "execute_result"
    }
   ],
   "source": [
    "training_data_prediction"
   ]
  },
  {
   "cell_type": "code",
   "execution_count": 25,
   "id": "6929819a",
   "metadata": {},
   "outputs": [
    {
     "data": {
      "text/plain": [
       "array([600775.91252081, 505558.77690466, 553167.34471273, 553167.34471273,\n",
       "       553167.34471273, 410341.6412885 , 505558.77690466, 553167.34471273,\n",
       "       600775.91252081, 600775.91252081, 315124.50567235, 505558.77690466,\n",
       "       410341.6412885 , 648384.48032889, 553167.34471273, 600775.91252081,\n",
       "       315124.50567235, 410341.6412885 , 505558.77690466, 505558.77690466,\n",
       "       505558.77690466, 505558.77690466, 505558.77690466])"
      ]
     },
     "execution_count": 25,
     "metadata": {},
     "output_type": "execute_result"
    }
   ],
   "source": [
    "predictions"
   ]
  },
  {
   "cell_type": "code",
   "execution_count": 26,
   "id": "35a9d2cb",
   "metadata": {},
   "outputs": [],
   "source": [
    "# testing price"
   ]
  },
  {
   "cell_type": "code",
   "execution_count": 27,
   "id": "55c61683",
   "metadata": {},
   "outputs": [
    {
     "data": {
      "text/plain": [
       "40     525000\n",
       "65     495000\n",
       "4      465000\n",
       "47     450000\n",
       "42     550000\n",
       "69     300000\n",
       "26     550000\n",
       "11     500000\n",
       "10     500000\n",
       "44     550000\n",
       "73     320000\n",
       "55     550000\n",
       "68     465000\n",
       "97     640000\n",
       "0      465000\n",
       "18     500000\n",
       "53     345000\n",
       "80     390000\n",
       "103    375000\n",
       "91     520000\n",
       "36     550000\n",
       "12     500000\n",
       "31     550000\n",
       "Name: Price, dtype: int64"
      ]
     },
     "execution_count": 27,
     "metadata": {},
     "output_type": "execute_result"
    }
   ],
   "source": [
    "y_test"
   ]
  },
  {
   "cell_type": "code",
   "execution_count": 28,
   "id": "bbbfdaf7",
   "metadata": {},
   "outputs": [],
   "source": [
    "# testing year"
   ]
  },
  {
   "cell_type": "code",
   "execution_count": 29,
   "id": "5c15c662",
   "metadata": {},
   "outputs": [
    {
     "data": {
      "text/html": [
       "<div>\n",
       "<style scoped>\n",
       "    .dataframe tbody tr th:only-of-type {\n",
       "        vertical-align: middle;\n",
       "    }\n",
       "\n",
       "    .dataframe tbody tr th {\n",
       "        vertical-align: top;\n",
       "    }\n",
       "\n",
       "    .dataframe thead th {\n",
       "        text-align: right;\n",
       "    }\n",
       "</style>\n",
       "<table border=\"1\" class=\"dataframe\">\n",
       "  <thead>\n",
       "    <tr style=\"text-align: right;\">\n",
       "      <th></th>\n",
       "      <th>Year</th>\n",
       "    </tr>\n",
       "  </thead>\n",
       "  <tbody>\n",
       "    <tr>\n",
       "      <th>40</th>\n",
       "      <td>2019</td>\n",
       "    </tr>\n",
       "    <tr>\n",
       "      <th>65</th>\n",
       "      <td>2017</td>\n",
       "    </tr>\n",
       "    <tr>\n",
       "      <th>4</th>\n",
       "      <td>2018</td>\n",
       "    </tr>\n",
       "    <tr>\n",
       "      <th>47</th>\n",
       "      <td>2018</td>\n",
       "    </tr>\n",
       "    <tr>\n",
       "      <th>42</th>\n",
       "      <td>2018</td>\n",
       "    </tr>\n",
       "    <tr>\n",
       "      <th>69</th>\n",
       "      <td>2015</td>\n",
       "    </tr>\n",
       "    <tr>\n",
       "      <th>26</th>\n",
       "      <td>2017</td>\n",
       "    </tr>\n",
       "    <tr>\n",
       "      <th>11</th>\n",
       "      <td>2018</td>\n",
       "    </tr>\n",
       "    <tr>\n",
       "      <th>10</th>\n",
       "      <td>2019</td>\n",
       "    </tr>\n",
       "    <tr>\n",
       "      <th>44</th>\n",
       "      <td>2019</td>\n",
       "    </tr>\n",
       "    <tr>\n",
       "      <th>73</th>\n",
       "      <td>2013</td>\n",
       "    </tr>\n",
       "    <tr>\n",
       "      <th>55</th>\n",
       "      <td>2017</td>\n",
       "    </tr>\n",
       "    <tr>\n",
       "      <th>68</th>\n",
       "      <td>2015</td>\n",
       "    </tr>\n",
       "    <tr>\n",
       "      <th>97</th>\n",
       "      <td>2020</td>\n",
       "    </tr>\n",
       "    <tr>\n",
       "      <th>0</th>\n",
       "      <td>2018</td>\n",
       "    </tr>\n",
       "    <tr>\n",
       "      <th>18</th>\n",
       "      <td>2019</td>\n",
       "    </tr>\n",
       "    <tr>\n",
       "      <th>53</th>\n",
       "      <td>2013</td>\n",
       "    </tr>\n",
       "    <tr>\n",
       "      <th>80</th>\n",
       "      <td>2015</td>\n",
       "    </tr>\n",
       "    <tr>\n",
       "      <th>103</th>\n",
       "      <td>2017</td>\n",
       "    </tr>\n",
       "    <tr>\n",
       "      <th>91</th>\n",
       "      <td>2017</td>\n",
       "    </tr>\n",
       "    <tr>\n",
       "      <th>36</th>\n",
       "      <td>2017</td>\n",
       "    </tr>\n",
       "    <tr>\n",
       "      <th>12</th>\n",
       "      <td>2017</td>\n",
       "    </tr>\n",
       "    <tr>\n",
       "      <th>31</th>\n",
       "      <td>2017</td>\n",
       "    </tr>\n",
       "  </tbody>\n",
       "</table>\n",
       "</div>"
      ],
      "text/plain": [
       "     Year\n",
       "40   2019\n",
       "65   2017\n",
       "4    2018\n",
       "47   2018\n",
       "42   2018\n",
       "69   2015\n",
       "26   2017\n",
       "11   2018\n",
       "10   2019\n",
       "44   2019\n",
       "73   2013\n",
       "55   2017\n",
       "68   2015\n",
       "97   2020\n",
       "0    2018\n",
       "18   2019\n",
       "53   2013\n",
       "80   2015\n",
       "103  2017\n",
       "91   2017\n",
       "36   2017\n",
       "12   2017\n",
       "31   2017"
      ]
     },
     "execution_count": 29,
     "metadata": {},
     "output_type": "execute_result"
    }
   ],
   "source": [
    "X_test"
   ]
  },
  {
   "cell_type": "code",
   "execution_count": 30,
   "id": "d262075c",
   "metadata": {},
   "outputs": [
    {
     "data": {
      "text/html": [
       "<div>\n",
       "<style scoped>\n",
       "    .dataframe tbody tr th:only-of-type {\n",
       "        vertical-align: middle;\n",
       "    }\n",
       "\n",
       "    .dataframe tbody tr th {\n",
       "        vertical-align: top;\n",
       "    }\n",
       "\n",
       "    .dataframe thead th {\n",
       "        text-align: right;\n",
       "    }\n",
       "</style>\n",
       "<table border=\"1\" class=\"dataframe\">\n",
       "  <thead>\n",
       "    <tr style=\"text-align: right;\">\n",
       "      <th></th>\n",
       "      <th>Year</th>\n",
       "    </tr>\n",
       "  </thead>\n",
       "  <tbody>\n",
       "    <tr>\n",
       "      <th>66</th>\n",
       "      <td>2017</td>\n",
       "    </tr>\n",
       "    <tr>\n",
       "      <th>90</th>\n",
       "      <td>2017</td>\n",
       "    </tr>\n",
       "    <tr>\n",
       "      <th>62</th>\n",
       "      <td>2017</td>\n",
       "    </tr>\n",
       "    <tr>\n",
       "      <th>22</th>\n",
       "      <td>2015</td>\n",
       "    </tr>\n",
       "    <tr>\n",
       "      <th>85</th>\n",
       "      <td>2015</td>\n",
       "    </tr>\n",
       "    <tr>\n",
       "      <th>...</th>\n",
       "      <td>...</td>\n",
       "    </tr>\n",
       "    <tr>\n",
       "      <th>106</th>\n",
       "      <td>2015</td>\n",
       "    </tr>\n",
       "    <tr>\n",
       "      <th>14</th>\n",
       "      <td>2017</td>\n",
       "    </tr>\n",
       "    <tr>\n",
       "      <th>92</th>\n",
       "      <td>2017</td>\n",
       "    </tr>\n",
       "    <tr>\n",
       "      <th>51</th>\n",
       "      <td>2018</td>\n",
       "    </tr>\n",
       "    <tr>\n",
       "      <th>102</th>\n",
       "      <td>2015</td>\n",
       "    </tr>\n",
       "  </tbody>\n",
       "</table>\n",
       "<p>89 rows × 1 columns</p>\n",
       "</div>"
      ],
      "text/plain": [
       "     Year\n",
       "66   2017\n",
       "90   2017\n",
       "62   2017\n",
       "22   2015\n",
       "85   2015\n",
       "..    ...\n",
       "106  2015\n",
       "14   2017\n",
       "92   2017\n",
       "51   2018\n",
       "102  2015\n",
       "\n",
       "[89 rows x 1 columns]"
      ]
     },
     "execution_count": 30,
     "metadata": {},
     "output_type": "execute_result"
    }
   ],
   "source": [
    "X_train"
   ]
  },
  {
   "cell_type": "code",
   "execution_count": 31,
   "id": "5cc9d901",
   "metadata": {},
   "outputs": [],
   "source": [
    "# shape of the split data"
   ]
  },
  {
   "cell_type": "code",
   "execution_count": 32,
   "id": "953f95cd",
   "metadata": {},
   "outputs": [
    {
     "name": "stdout",
     "output_type": "stream",
     "text": [
      "(23, 1)\n",
      "(23,)\n",
      "(89, 1)\n",
      "(89,)\n"
     ]
    }
   ],
   "source": [
    "print(X_test.shape)\n",
    "print(y_test.shape)\n",
    "print(X_train.shape)\n",
    "print(y_train.shape)"
   ]
  },
  {
   "cell_type": "code",
   "execution_count": 33,
   "id": "25fa84b8",
   "metadata": {},
   "outputs": [],
   "source": [
    "#predicting the Price of the car in 2022 After training and testing"
   ]
  },
  {
   "cell_type": "code",
   "execution_count": 34,
   "id": "702562a5",
   "metadata": {},
   "outputs": [
    {
     "name": "stderr",
     "output_type": "stream",
     "text": [
      "C:\\ProgramData\\Anaconda3\\lib\\site-packages\\sklearn\\base.py:450: UserWarning: X does not have valid feature names, but LinearRegression was fitted with feature names\n",
      "  warnings.warn(\n"
     ]
    },
    {
     "data": {
      "text/plain": [
       "array([648384.48032889])"
      ]
     },
     "execution_count": 34,
     "metadata": {},
     "output_type": "execute_result"
    }
   ],
   "source": [
    "lr.predict([[2020]]) # checking the price in 2020"
   ]
  },
  {
   "cell_type": "code",
   "execution_count": 35,
   "id": "a7347cdf",
   "metadata": {},
   "outputs": [
    {
     "name": "stderr",
     "output_type": "stream",
     "text": [
      "C:\\ProgramData\\Anaconda3\\lib\\site-packages\\sklearn\\base.py:450: UserWarning: X does not have valid feature names, but LinearRegression was fitted with feature names\n",
      "  warnings.warn(\n"
     ]
    },
    {
     "data": {
      "text/plain": [
       "array([743601.61594504])"
      ]
     },
     "execution_count": 35,
     "metadata": {},
     "output_type": "execute_result"
    }
   ],
   "source": [
    "lr.predict([[2022]])"
   ]
  },
  {
   "cell_type": "code",
   "execution_count": 36,
   "id": "149c1a47",
   "metadata": {},
   "outputs": [],
   "source": [
    "# Predicting the Price of the car price in 2022 Using the equation, mx+c=y,m -slope/gradient/coefficient, x-is the year,c-the y intercept"
   ]
  },
  {
   "cell_type": "code",
   "execution_count": 37,
   "id": "8d9a5914",
   "metadata": {},
   "outputs": [
    {
     "data": {
      "text/plain": [
       "array([47608.56780808])"
      ]
     },
     "execution_count": 37,
     "metadata": {},
     "output_type": "execute_result"
    }
   ],
   "source": [
    "lr.coef_  # gradient=m"
   ]
  },
  {
   "cell_type": "code",
   "execution_count": 38,
   "id": "2ebc4e0e",
   "metadata": {},
   "outputs": [
    {
     "data": {
      "text/plain": [
       "-95520922.49198581"
      ]
     },
     "execution_count": 38,
     "metadata": {},
     "output_type": "execute_result"
    }
   ],
   "source": [
    "lr.intercept_  # y intercept=c"
   ]
  },
  {
   "cell_type": "code",
   "execution_count": 39,
   "id": "c1d03566",
   "metadata": {},
   "outputs": [
    {
     "data": {
      "text/plain": [
       "743601.6159519404"
      ]
     },
     "execution_count": 39,
     "metadata": {},
     "output_type": "execute_result"
    }
   ],
   "source": [
    "47608.56780808*2022+-95520922.49198581  # applying in  mx+c=y"
   ]
  },
  {
   "cell_type": "code",
   "execution_count": 40,
   "id": "5090cb9e",
   "metadata": {},
   "outputs": [],
   "source": [
    "from sklearn.metrics import mean_squared_error,r2_score"
   ]
  },
  {
   "cell_type": "code",
   "execution_count": 41,
   "id": "35b95fa2",
   "metadata": {},
   "outputs": [],
   "source": [
    "# r2 value of training data"
   ]
  },
  {
   "cell_type": "code",
   "execution_count": 42,
   "id": "bb36fa42",
   "metadata": {
    "scrolled": false
   },
   "outputs": [
    {
     "name": "stdout",
     "output_type": "stream",
     "text": [
      "R  squared error of training data: 0.6389354253755697\n"
     ]
    }
   ],
   "source": [
    "error_score =r2_score(y_train,training_data_prediction) \n",
    "print('R  squared error of training data:',error_score)"
   ]
  },
  {
   "cell_type": "code",
   "execution_count": 43,
   "id": "b98fb644",
   "metadata": {},
   "outputs": [],
   "source": [
    "# Mean Square Error and R Squared Error  Value of testing data"
   ]
  },
  {
   "cell_type": "code",
   "execution_count": 44,
   "id": "12d5c424",
   "metadata": {},
   "outputs": [
    {
     "name": "stdout",
     "output_type": "stream",
     "text": [
      "Mean Squared Error of testing data is : 4326906256.829671\n",
      "R Squared Error of testsing data  is : 0.36759313425902185\n"
     ]
    }
   ],
   "source": [
    "print('Mean Squared Error of testing data is :',mean_squared_error(y_test,predictions))\n",
    "print('R Squared Error of testsing data  is :',r2_score(y_test,predictions))\n"
   ]
  },
  {
   "cell_type": "markdown",
   "id": "1fd1dd27",
   "metadata": {},
   "source": [
    "# Lasso regression"
   ]
  },
  {
   "cell_type": "code",
   "execution_count": 45,
   "id": "5a925abb",
   "metadata": {},
   "outputs": [],
   "source": [
    "from sklearn import datasets\n",
    "from sklearn.linear_model import Lasso\n",
    "from sklearn.model_selection import train_test_split"
   ]
  },
  {
   "cell_type": "code",
   "execution_count": 46,
   "id": "d498df9e",
   "metadata": {},
   "outputs": [],
   "source": [
    "# data Splitting for target and feature"
   ]
  },
  {
   "cell_type": "code",
   "execution_count": 47,
   "id": "9880079f",
   "metadata": {},
   "outputs": [],
   "source": [
    "X=df.drop(['Price'],axis=1)\n",
    "y=df['Price']"
   ]
  },
  {
   "cell_type": "code",
   "execution_count": 48,
   "id": "08c10bd5",
   "metadata": {},
   "outputs": [],
   "source": [
    "#data splitting for training and testing"
   ]
  },
  {
   "cell_type": "code",
   "execution_count": 49,
   "id": "fc6a41b8",
   "metadata": {},
   "outputs": [],
   "source": [
    "X_train, X_test, y_train, y_test = train_test_split(X,y,test_size=0.2,random_state=42)"
   ]
  },
  {
   "cell_type": "code",
   "execution_count": 50,
   "id": "fa7186dd",
   "metadata": {},
   "outputs": [],
   "source": [
    "# Lasso regression model"
   ]
  },
  {
   "cell_type": "code",
   "execution_count": 51,
   "id": "be29529e",
   "metadata": {},
   "outputs": [],
   "source": [
    "lasso = Lasso(alpha = 1)\n",
    "lasso.fit(X_train, y_train)\n",
    "y_pred1 = lasso.predict(X_test)"
   ]
  },
  {
   "cell_type": "code",
   "execution_count": 52,
   "id": "06c959dc",
   "metadata": {},
   "outputs": [],
   "source": [
    "# Mean Squared Error for Lasso regression"
   ]
  },
  {
   "cell_type": "code",
   "execution_count": 53,
   "id": "336dacc7",
   "metadata": {},
   "outputs": [
    {
     "name": "stdout",
     "output_type": "stream",
     "text": [
      "Mean squared error on test set 4326859771.015669\n"
     ]
    }
   ],
   "source": [
    "mean_squared_error = np.mean((y_pred1 - y_test)**2)\n",
    "print(\"Mean squared error on test set\", mean_squared_error)\n"
   ]
  },
  {
   "cell_type": "code",
   "execution_count": 54,
   "id": "8c857e68",
   "metadata": {},
   "outputs": [],
   "source": [
    "# R Square Error for Lasso regression"
   ]
  },
  {
   "cell_type": "code",
   "execution_count": 55,
   "id": "409e4176",
   "metadata": {},
   "outputs": [
    {
     "name": "stdout",
     "output_type": "stream",
     "text": [
      "R Squared Error is : 0.3675999284778446\n"
     ]
    }
   ],
   "source": [
    "print('R Squared Error is :',r2_score(y_test,y_pred1))\n"
   ]
  },
  {
   "cell_type": "code",
   "execution_count": 56,
   "id": "67d5e215",
   "metadata": {},
   "outputs": [],
   "source": [
    "#Lasso coefficient"
   ]
  },
  {
   "cell_type": "code",
   "execution_count": 57,
   "id": "b831163e",
   "metadata": {},
   "outputs": [
    {
     "name": "stdout",
     "output_type": "stream",
     "text": [
      "  Columns  Coefficient Estimate\n",
      "0    Year            47608.1556\n"
     ]
    }
   ],
   "source": [
    "lasso_coeff = pd.DataFrame()\n",
    "lasso_coeff[\"Columns\"] = X_train.columns\n",
    "lasso_coeff['Coefficient Estimate'] = pd.Series(lasso.coef_)\n",
    "print(lasso_coeff)"
   ]
  },
  {
   "cell_type": "code",
   "execution_count": 58,
   "id": "3f121575",
   "metadata": {},
   "outputs": [],
   "source": [
    "# predicting the price of the car in the year 2022 in lasso regression "
   ]
  },
  {
   "cell_type": "code",
   "execution_count": 59,
   "id": "dd3487c8",
   "metadata": {},
   "outputs": [
    {
     "name": "stderr",
     "output_type": "stream",
     "text": [
      "C:\\ProgramData\\Anaconda3\\lib\\site-packages\\sklearn\\base.py:450: UserWarning: X does not have valid feature names, but Lasso was fitted with feature names\n",
      "  warnings.warn(\n"
     ]
    },
    {
     "data": {
      "text/plain": [
       "array([743599.37427144])"
      ]
     },
     "execution_count": 59,
     "metadata": {},
     "output_type": "execute_result"
    }
   ],
   "source": [
    "lasso.predict([[2022]])"
   ]
  },
  {
   "cell_type": "markdown",
   "id": "57d2b98f",
   "metadata": {},
   "source": [
    "# On comparing the Mean Square Error of linear and lasso regression, WE can find that(MSE of Lasso) < (MSE of Linear)\n",
    "#  so Lasso is good model"
   ]
  }
 ],
 "metadata": {
  "kernelspec": {
   "display_name": "Python 3 (ipykernel)",
   "language": "python",
   "name": "python3"
  },
  "language_info": {
   "codemirror_mode": {
    "name": "ipython",
    "version": 3
   },
   "file_extension": ".py",
   "mimetype": "text/x-python",
   "name": "python",
   "nbconvert_exporter": "python",
   "pygments_lexer": "ipython3",
   "version": "3.9.12"
  }
 },
 "nbformat": 4,
 "nbformat_minor": 5
}
